{
  "nbformat": 4,
  "nbformat_minor": 0,
  "metadata": {
    "colab": {
      "name": "Grade_Cal.ipynb",
      "provenance": [],
      "collapsed_sections": []
    },
    "kernelspec": {
      "name": "python3",
      "display_name": "Python 3"
    },
    "language_info": {
      "name": "python"
    }
  },
  "cells": [
    {
      "cell_type": "markdown",
      "source": [
        "How 2 use \n",
        "1. Enter Subject Name (str)\n",
        "2. Enter how much term to calculate (int)\n",
        "3. Enter หน่วยกิจ เกรด (มี spacebar เว้น ระหว่างกัน) \n",
        "ex. หน่วยกิจ = 2 เกรด = 3.5 input == (2 3.5)\n",
        "4. Get GPA Mean!"
      ],
      "metadata": {
        "id": "sBMPl8uzf0oO"
      }
    },
    {
      "cell_type": "code",
      "source": [
        "# Save file mode\n",
        "\n",
        "def Grade_Calculate(file_name):\n",
        "      import math\n",
        "      subject = str(input(\"What subject is it? (str) : \"))\n",
        "      Term = int(input(\"How much term to calculate (int) : \"))\n",
        "      data = []\n",
        "      for i in range(Term):\n",
        "          grade = input(F\"Enter {subject} Term {i+1} (หน่วยกิจ เกรด): \").split()\n",
        "          grade = [float(j) for j in grade]\n",
        "          data.append(grade)\n",
        "\n",
        "      Full_point = 0\n",
        "      Grade = 0\n",
        "      for k in range(len(data)):\n",
        "          Full_point += data[k][0]\n",
        "          Grade += (data[k][0] * data[k][1])\n",
        "\n",
        "      Grade_Mean = Grade / Full_point\n",
        "\n",
        "      result = \"\"\n",
        "      print(\"Result---------------------------\")\n",
        "      print(\"**Subject = {}\".format(subject))\n",
        "      for l in range(len(data)):\n",
        "          print(F\"{subject} Term {l+1} : {data[l][0]}, {data[l][1]}\")\n",
        "          #result += (F\"{subject} Term {l+1} : {data[l][0]}, {data[l][1]} \\n\")\n",
        "          result += (F\"Term {l+1} : {round(data[l][1],2)} \\n\")\n",
        "      print(\"**Grade Mean = {}\".format(math.floor(Grade_Mean * 100) / 100))\n",
        "      print(\"---------------------------------\")\n",
        "      \n",
        "      print_file = str(input(\"Save file (Y/N) : \")).lower()\n",
        "      \n",
        "      if print_file == \"y\":\n",
        "        #name = str(input(\"Save file name as : \"))\n",
        "        f = open(file_name, \"a\" )\n",
        "        f.write(\"------------------------------------ \\n\" + (\"**Subject = {}\".format(subject) \n",
        "        + \"\\n\") + result + (\"**GPA Mean = {}\".format(math.floor(Grade_Mean * 100) / 100) + \"\\n\")\n",
        "        + \"------------------------------------ \\n\")\n",
        "        f.close()\n",
        "        print(\"Save Successful!\")\n",
        "      \n",
        "        \n",
        "\n",
        "\n",
        "\n",
        "Grade_Calculate(\"Tong\") # Set name to save here!\n"
      ],
      "metadata": {
        "colab": {
          "base_uri": "https://localhost:8080/"
        },
        "id": "u-prPLl4tyg0",
        "outputId": "8000f87d-0daa-4249-ab14-acc303ee8e55"
      },
      "execution_count": null,
      "outputs": [
        {
          "name": "stdout",
          "output_type": "stream",
          "text": [
            "What subject is it? (str) : Science\n",
            "How much term to calculate (int) : 3\n",
            "Enter Science Term 1 (หน่วยกิจ เกรด): 1.5 2.83\n",
            "Enter Science Term 2 (หน่วยกิจ เกรด): 1.5 3.33\n",
            "Enter Science Term 3 (หน่วยกิจ เกรด): 1 3.17\n",
            "Result---------------------------\n",
            "**Subject = Science\n",
            "Science Term 1 : 1.5, 2.83\n",
            "Science Term 2 : 1.5, 3.33\n",
            "Science Term 3 : 1.0, 3.17\n",
            "**Grade Mean = 3.1\n",
            "---------------------------------\n",
            "Save file (Y/N) : n\n"
          ]
        }
      ]
    },
    {
      "cell_type": "code",
      "source": [
        "#Clean file\n",
        "file_name = \"Tong\"\n",
        "f = open(file_name, \"w\")\n",
        "f.write(\"\")\n",
        "f.close()\n",
        "\n",
        "#open and read the file after the appending:\n",
        "f = open(file_name, \"r\")\n",
        "print(f.read())"
      ],
      "metadata": {
        "colab": {
          "base_uri": "https://localhost:8080/"
        },
        "id": "iZ7NPlsJzjYP",
        "outputId": "f83308bd-1a93-43dd-de3e-ac64bb99e9ad"
      },
      "execution_count": null,
      "outputs": [
        {
          "output_type": "stream",
          "name": "stdout",
          "text": [
            "\n"
          ]
        }
      ]
    },
    {
      "cell_type": "code",
      "source": [
        "''' def Grade_Calculate():\n",
        "    subject_count = int(input(\"How much subject ? (str) : \")) '''\n",
        "def Grade_Calculate():\n",
        "      subject = str(input(\"What subject is it? (str) : \"))\n",
        "      Term = int(input(\"How much term to calculate (int) : \"))\n",
        "      data = []\n",
        "      for i in range(Term):\n",
        "          grade = input(F\"Enter {subject} Term {i+1} (หน่วยกิจ เกรด): \").split()\n",
        "          grade = [float(j) for j in grade]\n",
        "          data.append(grade)\n",
        "\n",
        "      Full_point = 0\n",
        "      Grade = 0\n",
        "      for k in range(len(data)):\n",
        "          Full_point += data[k][0]\n",
        "          Grade += (data[k][0] * data[k][1])\n",
        "\n",
        "      Grade_Mean = Grade / Full_point\n",
        "\n",
        "      print(\"Result---------------------------\")\n",
        "      print(\"**Subject = {}\".format(subject))\n",
        "      for l in range(len(data)):\n",
        "          print(F\"{subject} Term {l+1} : {data[l][0]}, {data[l][1]}\")\n",
        "      print(\"**Grade Mean = {:.2f}\".format(Grade_Mean))\n",
        "      print(\"---------------------------------\")\n",
        "\n",
        "\n",
        "Grade_Calculate()\n"
      ],
      "metadata": {
        "colab": {
          "base_uri": "https://localhost:8080/",
          "height": 391
        },
        "id": "znWZk1Tsd6UN",
        "outputId": "0d459ad8-13f4-43e2-fc36-e335e544be5e"
      },
      "execution_count": null,
      "outputs": [
        {
          "name": "stdout",
          "output_type": "stream",
          "text": [
            "What subject is it? (str) : e\n",
            "How much term to calculate (int) : 2\n",
            "Enter e Term 1 (หน่วยกิจ เกรด): 3.17\n",
            "Enter e Term 2 (หน่วยกิจ เกรด): 2\n"
          ]
        },
        {
          "output_type": "error",
          "ename": "IndexError",
          "evalue": "ignored",
          "traceback": [
            "\u001b[0;31m---------------------------------------------------------------------------\u001b[0m",
            "\u001b[0;31mIndexError\u001b[0m                                Traceback (most recent call last)",
            "\u001b[0;32m<ipython-input-1-59e822479727>\u001b[0m in \u001b[0;36m<module>\u001b[0;34m()\u001b[0m\n\u001b[1;32m     26\u001b[0m \u001b[0;34m\u001b[0m\u001b[0m\n\u001b[1;32m     27\u001b[0m \u001b[0;34m\u001b[0m\u001b[0m\n\u001b[0;32m---> 28\u001b[0;31m \u001b[0mGrade_Calculate\u001b[0m\u001b[0;34m(\u001b[0m\u001b[0;34m)\u001b[0m\u001b[0;34m\u001b[0m\u001b[0;34m\u001b[0m\u001b[0m\n\u001b[0m",
            "\u001b[0;32m<ipython-input-1-59e822479727>\u001b[0m in \u001b[0;36mGrade_Calculate\u001b[0;34m()\u001b[0m\n\u001b[1;32m     14\u001b[0m       \u001b[0;32mfor\u001b[0m \u001b[0mk\u001b[0m \u001b[0;32min\u001b[0m \u001b[0mrange\u001b[0m\u001b[0;34m(\u001b[0m\u001b[0mlen\u001b[0m\u001b[0;34m(\u001b[0m\u001b[0mdata\u001b[0m\u001b[0;34m)\u001b[0m\u001b[0;34m)\u001b[0m\u001b[0;34m:\u001b[0m\u001b[0;34m\u001b[0m\u001b[0;34m\u001b[0m\u001b[0m\n\u001b[1;32m     15\u001b[0m           \u001b[0mFull_point\u001b[0m \u001b[0;34m+=\u001b[0m \u001b[0mdata\u001b[0m\u001b[0;34m[\u001b[0m\u001b[0mk\u001b[0m\u001b[0;34m]\u001b[0m\u001b[0;34m[\u001b[0m\u001b[0;36m0\u001b[0m\u001b[0;34m]\u001b[0m\u001b[0;34m\u001b[0m\u001b[0;34m\u001b[0m\u001b[0m\n\u001b[0;32m---> 16\u001b[0;31m           \u001b[0mGrade\u001b[0m \u001b[0;34m+=\u001b[0m \u001b[0;34m(\u001b[0m\u001b[0mdata\u001b[0m\u001b[0;34m[\u001b[0m\u001b[0mk\u001b[0m\u001b[0;34m]\u001b[0m\u001b[0;34m[\u001b[0m\u001b[0;36m0\u001b[0m\u001b[0;34m]\u001b[0m \u001b[0;34m*\u001b[0m \u001b[0mdata\u001b[0m\u001b[0;34m[\u001b[0m\u001b[0mk\u001b[0m\u001b[0;34m]\u001b[0m\u001b[0;34m[\u001b[0m\u001b[0;36m1\u001b[0m\u001b[0;34m]\u001b[0m\u001b[0;34m)\u001b[0m\u001b[0;34m\u001b[0m\u001b[0;34m\u001b[0m\u001b[0m\n\u001b[0m\u001b[1;32m     17\u001b[0m \u001b[0;34m\u001b[0m\u001b[0m\n\u001b[1;32m     18\u001b[0m       \u001b[0mGrade_Mean\u001b[0m \u001b[0;34m=\u001b[0m \u001b[0mGrade\u001b[0m \u001b[0;34m/\u001b[0m \u001b[0mFull_point\u001b[0m\u001b[0;34m\u001b[0m\u001b[0;34m\u001b[0m\u001b[0m\n",
            "\u001b[0;31mIndexError\u001b[0m: list index out of range"
          ]
        }
      ]
    },
    {
      "cell_type": "markdown",
      "source": [
        "Grade Mean Calculate\n",
        "\n",
        "How to use?\n",
        "1. Run Code\n",
        "2. Enter Grade_Count (Term_Count)\n",
        "3. Enter Grade (Term)\n",
        "4. Get GPA Mean Result!\n",
        "\n",
        "** To exit : Terminate code!"
      ],
      "metadata": {
        "id": "pv3w37Bz4Ygn"
      }
    },
    {
      "cell_type": "code",
      "execution_count": null,
      "metadata": {
        "colab": {
          "base_uri": "https://localhost:8080/"
        },
        "id": "UxZzeDqcu7U8",
        "outputId": "c7ec2fd1-7689-437d-b6f0-c8ac04555eac"
      },
      "outputs": [
        {
          "output_type": "stream",
          "name": "stdout",
          "text": [
            "---------- GPA Mean Cal ----------\n",
            "Enter Grade count (Term) : 2\n",
            "Enter Grade 1 : 3.17\n",
            "Enter Grade 2 : 2\n",
            "----------------------------------\n",
            " \n",
            "------Result------\n",
            "1. Grade == 3.17\n",
            "2. Grade == 2.0\n",
            "------------------\n",
            "GPA Mean == 2.58\n",
            "------------------\n"
          ]
        }
      ],
      "source": [
        "def Grade_Cal():\n",
        "    print(\"---------- GPA Mean Cal ----------\")\n",
        "    while True: \n",
        "      try:\n",
        "          Grade_Count = int(input(\"Enter Grade count (Term) : \"))\n",
        "          if (Grade_Count > 0 and Grade_Count <=4):\n",
        "            break\n",
        "    \n",
        "      except ValueError:\n",
        "          print(\"Error! : Please type only integer !\")\n",
        "    Grade = []\n",
        "\n",
        "    i = 0\n",
        "    while i < Grade_Count:\n",
        "      try :\n",
        "          Grade_Kept = float(input(F\"Enter Grade {i+1} : \"))\n",
        "          if (Grade_Kept > 0 and Grade_Kept <= 4):\n",
        "              Grade.append(Grade_Kept)\n",
        "              i += 1\n",
        "          else:\n",
        "              print(\"Error! : Please type GPA Again \")\n",
        "      except ValueError:\n",
        "        print(\"Error! : Please type only integer !\")\n",
        "\n",
        "              \n",
        "    \n",
        "    Calculate = (sum(Grade) * 4) / (Grade_Count * 4) \n",
        "\n",
        "    print(\"----------------------------------\")\n",
        "    print(\" \")\n",
        "\n",
        "    print(\"------Result------\")\n",
        "    for j in range(len(Grade)):\n",
        "        print(F\"{j+1}. Grade == {Grade[j]}\")\n",
        "    print(\"------------------\")\n",
        "    print(\"GPA Mean == {:.2f}\".format(Calculate))\n",
        "    print(\"------------------\")\n",
        "\n",
        "Grade_Cal()"
      ]
    }
  ]
}